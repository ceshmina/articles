{
 "cells": [
  {
   "cell_type": "code",
   "execution_count": 1,
   "id": "45a32fc9-6991-4ba1-a3ec-0659ebf0febd",
   "metadata": {
    "tags": []
   },
   "outputs": [],
   "source": [
    "import lightgbm as lgb\n",
    "import numpy as np\n",
    "import pandas as pd\n",
    "from sklearn.datasets import fetch_california_housing\n",
    "from sklearn.metrics import mean_squared_error\n",
    "from sklearn.model_selection import train_test_split"
   ]
  },
  {
   "cell_type": "code",
   "execution_count": 2,
   "id": "49f3b4e4-620c-4222-80d8-182db0539375",
   "metadata": {
    "tags": []
   },
   "outputs": [
    {
     "name": "stdout",
     "output_type": "stream",
     "text": [
      "<class 'pandas.core.frame.DataFrame'>\n",
      "RangeIndex: 20640 entries, 0 to 20639\n",
      "Data columns (total 9 columns):\n",
      " #   Column       Non-Null Count  Dtype  \n",
      "---  ------       --------------  -----  \n",
      " 0   MedInc       20640 non-null  float64\n",
      " 1   HouseAge     20640 non-null  float64\n",
      " 2   AveRooms     20640 non-null  float64\n",
      " 3   AveBedrms    20640 non-null  float64\n",
      " 4   Population   20640 non-null  float64\n",
      " 5   AveOccup     20640 non-null  float64\n",
      " 6   Latitude     20640 non-null  float64\n",
      " 7   Longitude    20640 non-null  float64\n",
      " 8   MedHouseVal  20640 non-null  float64\n",
      "dtypes: float64(9)\n",
      "memory usage: 1.4 MB\n"
     ]
    },
    {
     "data": {
      "text/html": [
       "<div>\n",
       "<style scoped>\n",
       "    .dataframe tbody tr th:only-of-type {\n",
       "        vertical-align: middle;\n",
       "    }\n",
       "\n",
       "    .dataframe tbody tr th {\n",
       "        vertical-align: top;\n",
       "    }\n",
       "\n",
       "    .dataframe thead th {\n",
       "        text-align: right;\n",
       "    }\n",
       "</style>\n",
       "<table border=\"1\" class=\"dataframe\">\n",
       "  <thead>\n",
       "    <tr style=\"text-align: right;\">\n",
       "      <th></th>\n",
       "      <th>MedInc</th>\n",
       "      <th>HouseAge</th>\n",
       "      <th>AveRooms</th>\n",
       "      <th>AveBedrms</th>\n",
       "      <th>Population</th>\n",
       "      <th>AveOccup</th>\n",
       "      <th>Latitude</th>\n",
       "      <th>Longitude</th>\n",
       "      <th>MedHouseVal</th>\n",
       "    </tr>\n",
       "  </thead>\n",
       "  <tbody>\n",
       "    <tr>\n",
       "      <th>0</th>\n",
       "      <td>8.3252</td>\n",
       "      <td>41.0</td>\n",
       "      <td>6.984127</td>\n",
       "      <td>1.023810</td>\n",
       "      <td>322.0</td>\n",
       "      <td>2.555556</td>\n",
       "      <td>37.88</td>\n",
       "      <td>-122.23</td>\n",
       "      <td>4.526</td>\n",
       "    </tr>\n",
       "    <tr>\n",
       "      <th>1</th>\n",
       "      <td>8.3014</td>\n",
       "      <td>21.0</td>\n",
       "      <td>6.238137</td>\n",
       "      <td>0.971880</td>\n",
       "      <td>2401.0</td>\n",
       "      <td>2.109842</td>\n",
       "      <td>37.86</td>\n",
       "      <td>-122.22</td>\n",
       "      <td>3.585</td>\n",
       "    </tr>\n",
       "    <tr>\n",
       "      <th>2</th>\n",
       "      <td>7.2574</td>\n",
       "      <td>52.0</td>\n",
       "      <td>8.288136</td>\n",
       "      <td>1.073446</td>\n",
       "      <td>496.0</td>\n",
       "      <td>2.802260</td>\n",
       "      <td>37.85</td>\n",
       "      <td>-122.24</td>\n",
       "      <td>3.521</td>\n",
       "    </tr>\n",
       "    <tr>\n",
       "      <th>3</th>\n",
       "      <td>5.6431</td>\n",
       "      <td>52.0</td>\n",
       "      <td>5.817352</td>\n",
       "      <td>1.073059</td>\n",
       "      <td>558.0</td>\n",
       "      <td>2.547945</td>\n",
       "      <td>37.85</td>\n",
       "      <td>-122.25</td>\n",
       "      <td>3.413</td>\n",
       "    </tr>\n",
       "    <tr>\n",
       "      <th>4</th>\n",
       "      <td>3.8462</td>\n",
       "      <td>52.0</td>\n",
       "      <td>6.281853</td>\n",
       "      <td>1.081081</td>\n",
       "      <td>565.0</td>\n",
       "      <td>2.181467</td>\n",
       "      <td>37.85</td>\n",
       "      <td>-122.25</td>\n",
       "      <td>3.422</td>\n",
       "    </tr>\n",
       "  </tbody>\n",
       "</table>\n",
       "</div>"
      ],
      "text/plain": [
       "   MedInc  HouseAge  AveRooms  AveBedrms  Population  AveOccup  Latitude  \\\n",
       "0  8.3252      41.0  6.984127   1.023810       322.0  2.555556     37.88   \n",
       "1  8.3014      21.0  6.238137   0.971880      2401.0  2.109842     37.86   \n",
       "2  7.2574      52.0  8.288136   1.073446       496.0  2.802260     37.85   \n",
       "3  5.6431      52.0  5.817352   1.073059       558.0  2.547945     37.85   \n",
       "4  3.8462      52.0  6.281853   1.081081       565.0  2.181467     37.85   \n",
       "\n",
       "   Longitude  MedHouseVal  \n",
       "0    -122.23        4.526  \n",
       "1    -122.22        3.585  \n",
       "2    -122.24        3.521  \n",
       "3    -122.25        3.413  \n",
       "4    -122.25        3.422  "
      ]
     },
     "execution_count": 2,
     "metadata": {},
     "output_type": "execute_result"
    }
   ],
   "source": [
    "data = fetch_california_housing()\n",
    "\n",
    "df = pd.DataFrame(data.data, columns=data.feature_names) \\\n",
    "    .assign(MedHouseVal=data.target)\n",
    "            \n",
    "df.info()\n",
    "df.head()"
   ]
  },
  {
   "cell_type": "code",
   "execution_count": 3,
   "id": "e9832da7-ad56-4e3f-8fcf-94d8a41fc27e",
   "metadata": {
    "tags": []
   },
   "outputs": [],
   "source": [
    "feature_cols = data.feature_names\n",
    "target_col = 'MedHouseVal'"
   ]
  },
  {
   "cell_type": "code",
   "execution_count": 4,
   "id": "59c6b055-78f3-4973-b6a1-f314d2f43cde",
   "metadata": {
    "tags": []
   },
   "outputs": [
    {
     "data": {
      "text/plain": [
       "((16512, 8), (4128, 8), (16512,), (4128,))"
      ]
     },
     "execution_count": 4,
     "metadata": {},
     "output_type": "execute_result"
    }
   ],
   "source": [
    "x_train, x_test, y_train, y_test = train_test_split(\n",
    "    df[feature_cols], df[target_col], test_size=0.2, random_state=0\n",
    ")\n",
    "\n",
    "x_train.shape, x_test.shape, y_train.shape, y_test.shape"
   ]
  },
  {
   "cell_type": "code",
   "execution_count": 5,
   "id": "e0d69cc3-2a94-4c86-b334-4ccd5e4fe131",
   "metadata": {
    "tags": []
   },
   "outputs": [
    {
     "data": {
      "text/plain": [
       "((13209, 8), (3303, 8), (13209,), (3303,))"
      ]
     },
     "execution_count": 5,
     "metadata": {},
     "output_type": "execute_result"
    }
   ],
   "source": [
    "x_train, x_valid, y_train, y_valid = train_test_split(\n",
    "    x_train, y_train, test_size=0.2, random_state=0\n",
    ")\n",
    "\n",
    "x_train.shape, x_valid.shape, y_train.shape, y_valid.shape"
   ]
  },
  {
   "cell_type": "markdown",
   "id": "63a2ca3b-d7f0-402d-bbe5-4840a089d598",
   "metadata": {},
   "source": [
    "## Training API\n",
    "\n",
    "train (https://lightgbm.readthedocs.io/en/latest/pythonapi/lightgbm.train.html#lightgbm-train) を使う"
   ]
  },
  {
   "cell_type": "code",
   "execution_count": 6,
   "id": "cf0adf8b-2a56-49fb-9714-7b09cd0c36b5",
   "metadata": {
    "tags": []
   },
   "outputs": [],
   "source": [
    "# Dataset形式で渡す必要がある\n",
    "# pd.DataFrameなら、特徴量の名前は勝手に入力される\n",
    "\n",
    "train = lgb.Dataset(x_train, y_train)\n",
    "valid = lgb.Dataset(x_valid, y_valid, reference=train)"
   ]
  },
  {
   "cell_type": "code",
   "execution_count": 15,
   "id": "10ce9b8a-d65e-4150-983d-3e311b9ce7da",
   "metadata": {
    "tags": []
   },
   "outputs": [],
   "source": [
    "# paramsは以降の引数より優先される\n",
    "\n",
    "# ここで紹介されている https://lightgbm.readthedocs.io/en/latest/Parameters.html#core-parameters\n",
    "# ネットの記事とかで紹介されてるパラメータはデフォルト通りのものも多い\n",
    "\n",
    "# objectiveをlambdarankにすればランク学習もできる\n",
    "\n",
    "params = {\n",
    "    'objective': 'regression',  # デフォルトで回帰だけど\n",
    "    'metric': 'rmse',\n",
    "    'num_iterations': 1000,  # trainの引数でも指定できる\n",
    "    'seed': 0\n",
    "}"
   ]
  },
  {
   "cell_type": "code",
   "execution_count": 16,
   "id": "19696d7b-1a35-478a-80b9-8f57b136817c",
   "metadata": {
    "tags": []
   },
   "outputs": [
    {
     "name": "stdout",
     "output_type": "stream",
     "text": [
      "[LightGBM] [Warning] Auto-choosing col-wise multi-threading, the overhead of testing was 0.003859 seconds.\n",
      "You can set `force_col_wise=true` to remove the overhead.\n",
      "[LightGBM] [Info] Total Bins 1837\n",
      "[LightGBM] [Info] Number of data points in the train set: 13209, number of used features: 8\n",
      "[LightGBM] [Info] Start training from score 2.065707\n",
      "Training until validation scores don't improve for 50 rounds\n",
      "[10]\tvalid's rmse: 0.719651\n",
      "[20]\tvalid's rmse: 0.592514\n",
      "[30]\tvalid's rmse: 0.534944\n",
      "[40]\tvalid's rmse: 0.511013\n",
      "[50]\tvalid's rmse: 0.498221\n",
      "[60]\tvalid's rmse: 0.491197\n",
      "[70]\tvalid's rmse: 0.484716\n",
      "[80]\tvalid's rmse: 0.48053\n",
      "[90]\tvalid's rmse: 0.477339\n",
      "[100]\tvalid's rmse: 0.475572\n",
      "[110]\tvalid's rmse: 0.474097\n",
      "[120]\tvalid's rmse: 0.472471\n",
      "[130]\tvalid's rmse: 0.471329\n",
      "[140]\tvalid's rmse: 0.470435\n",
      "[150]\tvalid's rmse: 0.468505\n",
      "[160]\tvalid's rmse: 0.466826\n",
      "[170]\tvalid's rmse: 0.465828\n",
      "[180]\tvalid's rmse: 0.465149\n",
      "[190]\tvalid's rmse: 0.463973\n",
      "[200]\tvalid's rmse: 0.463681\n",
      "[210]\tvalid's rmse: 0.463186\n",
      "[220]\tvalid's rmse: 0.462563\n",
      "[230]\tvalid's rmse: 0.462049\n",
      "[240]\tvalid's rmse: 0.46124\n",
      "[250]\tvalid's rmse: 0.461311\n",
      "[260]\tvalid's rmse: 0.460951\n",
      "[270]\tvalid's rmse: 0.46139\n",
      "[280]\tvalid's rmse: 0.461114\n",
      "[290]\tvalid's rmse: 0.461866\n",
      "[300]\tvalid's rmse: 0.461851\n",
      "[310]\tvalid's rmse: 0.461524\n",
      "Early stopping, best iteration is:\n",
      "[260]\tvalid's rmse: 0.460951\n"
     ]
    },
    {
     "name": "stderr",
     "output_type": "stream",
     "text": [
      "/opt/conda/envs/analysis/lib/python3.9/site-packages/lightgbm/engine.py:177: UserWarning: Found `num_iterations` in params. Will use it instead of argument\n",
      "  _log_warning(f\"Found `{alias}` in params. Will use it instead of argument\")\n"
     ]
    }
   ],
   "source": [
    "# callbackｓを指定するとデフォルトのverbosityではrmseの推移を出してくれなくなる\n",
    "# log_evaluationを使うと適当な周期で推移を出せる\n",
    "\n",
    "model = lgb.train(\n",
    "    params, train, valid_sets=[valid], valid_names=['valid'],\n",
    "    callbacks=[lgb.log_evaluation(10), lgb.early_stopping(50)]\n",
    ")"
   ]
  },
  {
   "cell_type": "code",
   "execution_count": 17,
   "id": "f973e660-88b2-4dbd-915d-fed4c6e2f0b3",
   "metadata": {
    "tags": []
   },
   "outputs": [
    {
     "data": {
      "text/plain": [
       "0.44061853689115754"
      ]
     },
     "execution_count": 17,
     "metadata": {},
     "output_type": "execute_result"
    }
   ],
   "source": [
    "y_pred = model.predict(x_test)\n",
    "np.sqrt(mean_squared_error(y_test, y_pred))"
   ]
  },
  {
   "cell_type": "markdown",
   "id": "20fb6847-8b90-43ef-8782-aa3c2326e0cb",
   "metadata": {},
   "source": [
    "## scikit-learn API\n",
    "\n",
    "回帰の例 https://lightgbm.readthedocs.io/en/latest/pythonapi/lightgbm.LGBMRegressor.html#lightgbm.LGBMRegressor\n",
    "\n",
    "fitのパラメータはここ\n",
    "https://lightgbm.readthedocs.io/en/latest/pythonapi/lightgbm.LGBMRegressor.html#lightgbm.LGBMRegressor.fit"
   ]
  },
  {
   "cell_type": "code",
   "execution_count": 14,
   "id": "b3dbbb52-2cfa-416c-8e56-21298cf12318",
   "metadata": {
    "tags": []
   },
   "outputs": [
    {
     "name": "stdout",
     "output_type": "stream",
     "text": [
      "Training until validation scores don't improve for 50 rounds\n",
      "[10]\tvalid's rmse: 0.719651\tvalid's l2: 0.517897\n",
      "[20]\tvalid's rmse: 0.592514\tvalid's l2: 0.351073\n",
      "[30]\tvalid's rmse: 0.534944\tvalid's l2: 0.286165\n",
      "[40]\tvalid's rmse: 0.511013\tvalid's l2: 0.261134\n",
      "[50]\tvalid's rmse: 0.498221\tvalid's l2: 0.248224\n",
      "[60]\tvalid's rmse: 0.491197\tvalid's l2: 0.241274\n",
      "[70]\tvalid's rmse: 0.484716\tvalid's l2: 0.23495\n",
      "[80]\tvalid's rmse: 0.48053\tvalid's l2: 0.230909\n",
      "[90]\tvalid's rmse: 0.477339\tvalid's l2: 0.227852\n",
      "[100]\tvalid's rmse: 0.475572\tvalid's l2: 0.226169\n",
      "[110]\tvalid's rmse: 0.474097\tvalid's l2: 0.224768\n",
      "[120]\tvalid's rmse: 0.472471\tvalid's l2: 0.223229\n",
      "[130]\tvalid's rmse: 0.471329\tvalid's l2: 0.222151\n",
      "[140]\tvalid's rmse: 0.470435\tvalid's l2: 0.22131\n",
      "[150]\tvalid's rmse: 0.468505\tvalid's l2: 0.219497\n",
      "[160]\tvalid's rmse: 0.466826\tvalid's l2: 0.217926\n",
      "[170]\tvalid's rmse: 0.465828\tvalid's l2: 0.216995\n",
      "[180]\tvalid's rmse: 0.465149\tvalid's l2: 0.216364\n",
      "[190]\tvalid's rmse: 0.463973\tvalid's l2: 0.215271\n",
      "[200]\tvalid's rmse: 0.463681\tvalid's l2: 0.215\n",
      "[210]\tvalid's rmse: 0.463186\tvalid's l2: 0.214541\n",
      "[220]\tvalid's rmse: 0.462563\tvalid's l2: 0.213965\n",
      "[230]\tvalid's rmse: 0.462049\tvalid's l2: 0.213489\n",
      "[240]\tvalid's rmse: 0.46124\tvalid's l2: 0.212742\n",
      "[250]\tvalid's rmse: 0.461311\tvalid's l2: 0.212808\n",
      "[260]\tvalid's rmse: 0.460951\tvalid's l2: 0.212475\n",
      "[270]\tvalid's rmse: 0.46139\tvalid's l2: 0.21288\n",
      "[280]\tvalid's rmse: 0.461114\tvalid's l2: 0.212626\n",
      "[290]\tvalid's rmse: 0.461866\tvalid's l2: 0.21332\n",
      "[300]\tvalid's rmse: 0.461851\tvalid's l2: 0.213307\n",
      "[310]\tvalid's rmse: 0.461524\tvalid's l2: 0.213005\n",
      "Early stopping, best iteration is:\n",
      "[260]\tvalid's rmse: 0.460951\tvalid's l2: 0.212475\n"
     ]
    }
   ],
   "source": [
    "model2 = lgb.LGBMRegressor(\n",
    "    n_estimators=1000, random_state=0\n",
    ").fit(\n",
    "    x_train, y_train, eval_set=[(x_valid, y_valid)], eval_names=['valid'],\n",
    "    eval_metric='rmse',\n",
    "    callbacks=[lgb.log_evaluation(10), lgb.early_stopping(50)]\n",
    ")"
   ]
  },
  {
   "cell_type": "code",
   "execution_count": 11,
   "id": "df6cd51f-469d-4b79-94bd-66deb0fcaa03",
   "metadata": {
    "tags": []
   },
   "outputs": [
    {
     "data": {
      "text/plain": [
       "0.44061853689115754"
      ]
     },
     "execution_count": 11,
     "metadata": {},
     "output_type": "execute_result"
    }
   ],
   "source": [
    "y_pred = model2.predict(x_test)\n",
    "np.sqrt(mean_squared_error(y_test, y_pred))"
   ]
  },
  {
   "cell_type": "code",
   "execution_count": null,
   "id": "8e811f3a-a9e0-4bf5-afca-1056371e3579",
   "metadata": {},
   "outputs": [],
   "source": []
  }
 ],
 "metadata": {
  "kernelspec": {
   "display_name": "Python 3 (ipykernel)",
   "language": "python",
   "name": "python3"
  },
  "language_info": {
   "codemirror_mode": {
    "name": "ipython",
    "version": 3
   },
   "file_extension": ".py",
   "mimetype": "text/x-python",
   "name": "python",
   "nbconvert_exporter": "python",
   "pygments_lexer": "ipython3",
   "version": "3.9.16"
  }
 },
 "nbformat": 4,
 "nbformat_minor": 5
}
